{
 "cells": [
  {
   "cell_type": "code",
   "execution_count": 2,
   "metadata": {},
   "outputs": [
    {
     "ename": "SyntaxError",
     "evalue": "invalid syntax (4039466473.py, line 1)",
     "output_type": "error",
     "traceback": [
      "\u001b[0;36m  Cell \u001b[0;32mIn[2], line 1\u001b[0;36m\u001b[0m\n\u001b[0;31m    git pull --tags origin main --no-rebase\u001b[0m\n\u001b[0m        ^\u001b[0m\n\u001b[0;31mSyntaxError\u001b[0m\u001b[0;31m:\u001b[0m invalid syntax\n"
     ]
    }
   ],
   "source": [
    "import pandas as pd\n",
    "import requests\n",
    "import json\n",
    "\n",
    "# Make a GET request to the API endpoint that returns JSON data\n",
    "url = \"http://api.steampowered.com/ISteamApps/GetAppList/v0002/?key=STEAMKEY&format=json\"\n",
    "response = requests.get(url)\n",
    "\n",
    "# Parse the JSON data into a Python dictionary\n",
    "data = json.loads(response.content.decode(response.encoding))\n",
    "\n",
    "# Extract the list of apps from the dictionary and create a new dictionary with the `appid` and `name` for each app:\n",
    "apps = data['applist']['apps']\n",
    "app_data = [{'appid': app['appid'], 'name': app['name']} for app in apps]\n",
    "\n",
    "# Convert the `app_data` list into a pandas DataFrame\n",
    "df = pd.DataFrame(app_data, columns=['appid', 'name'], dtype=str)\n",
    "\n",
    "# Export the DataFrame to a CSV file\n",
    "df.to_csv('Steam Games Data.csv', index=False, mode='w', encoding='utf-8-sig')\n"
   ]
  }
 ],
 "metadata": {
  "kernelspec": {
   "display_name": "Python 3 (ipykernel)",
   "language": "python",
   "name": "python3"
  },
  "language_info": {
   "codemirror_mode": {
    "name": "ipython",
    "version": 3
   },
   "file_extension": ".py",
   "mimetype": "text/x-python",
   "name": "python",
   "nbconvert_exporter": "python",
   "pygments_lexer": "ipython3",
   "version": "3.10.4"
  },
  "orig_nbformat": 4
 },
 "nbformat": 4,
 "nbformat_minor": 2
}
